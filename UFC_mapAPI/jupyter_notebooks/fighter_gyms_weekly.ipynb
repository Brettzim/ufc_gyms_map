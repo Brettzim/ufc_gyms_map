{
 "cells": [
  {
   "cell_type": "code",
   "execution_count": 1,
   "id": "d098a33d",
   "metadata": {},
   "outputs": [],
   "source": [
    "import requests\n",
    "from bs4 import BeautifulSoup\n",
    "import json\n",
    "from datetime import datetime\n",
    "from collections import defaultdict\n",
    "import pandas as pd"
   ]
  },
  {
   "cell_type": "code",
   "execution_count": 2,
   "id": "55f22bb6",
   "metadata": {},
   "outputs": [],
   "source": [
    "URL = 'https://www.ufc.com/rankings'\n",
    "page = requests.get(URL)\n",
    "soup = BeautifulSoup(page.content, 'html.parser')\n",
    "weightclass = soup.findAll('div', attrs={'class':'view-grouping'})"
   ]
  },
  {
   "cell_type": "code",
   "execution_count": 3,
   "id": "88a087c7",
   "metadata": {},
   "outputs": [],
   "source": [
    "rankings = {}\n",
    "\n",
    "# Function to extract athlete data from a row\n",
    "def extract_athlete_data(row):\n",
    "    rank = row.select_one('.views-field-weight-class-rank').text.strip()\n",
    "    name = row.select_one('.views-field-title a').text.strip()\n",
    "    return rank, name\n",
    "\n",
    "# Iterate over all view groupings (weight classes)\n",
    "for grouping in soup.select('.view-grouping'):\n",
    "    weight_class = grouping.select_one('.view-grouping-header').text.strip()\n",
    "    rankings[weight_class] = {}\n",
    "    \n",
    "    # Extract champion if present\n",
    "    champion_section = grouping.select_one('.rankings--athlete--champion .info h5 a')\n",
    "    if champion_section:\n",
    "        champion_name = champion_section.text.strip()\n",
    "        rankings[weight_class]['Champion'] = champion_name\n",
    "    \n",
    "    # Extract other athletes\n",
    "    rows = grouping.select('tbody tr')\n",
    "    for row in rows:\n",
    "        rank, name = extract_athlete_data(row)\n",
    "        rankings[weight_class][rank] = name\n",
    "\n",
    "del rankings[\"Men's Pound-for-Pound Top Rank\"]\n",
    "del rankings[\"Women's Pound-for-Pound Top Rank\"]\n"
   ]
  },
  {
   "cell_type": "code",
   "execution_count": 9,
   "id": "927fe11e",
   "metadata": {},
   "outputs": [],
   "source": [
    "# Read the master table\n",
    "master_file_path = '../csvs/fighter_gyms_master.csv'\n",
    "master_df = pd.read_csv(master_file_path)\n",
    "\n",
    "# Create a dictionary from the DataFrame\n",
    "master_table_dict = master_df.set_index('Name').to_dict(orient='index')"
   ]
  },
  {
   "cell_type": "code",
   "execution_count": 10,
   "id": "349b5378",
   "metadata": {},
   "outputs": [
    {
     "name": "stdout",
     "output_type": "stream",
     "text": [
      "GeoJSON file created successfully.\n"
     ]
    }
   ],
   "source": [
    "# Merge rankings with master table\n",
    "detailed_rankings = defaultdict(list)\n",
    "\n",
    "for weight_class, fighters in rankings.items():\n",
    "    for rank, name in fighters.items():\n",
    "        if name in master_table_dict:\n",
    "            gym_info = master_table_dict[name]\n",
    "            detailed_rankings[gym_info['Gym']].append({\n",
    "                'name': name,\n",
    "                'weight': weight_class,\n",
    "                'rank': rank,\n",
    "                'latitude': gym_info['latitude'],\n",
    "                'longitude': gym_info['longitude']\n",
    "            })\n",
    "\n",
    "# Convert to GeoJSON\n",
    "features = []\n",
    "\n",
    "for gym, fighters in detailed_rankings.items():\n",
    "    coordinates = [fighters[0]['longitude'], fighters[0]['latitude']]\n",
    "    fighter_list = \"<br>\".join([f\"{fighter['name']} ({fighter['weight']} - {fighter['rank']})\" for fighter in fighters])\n",
    "    feature = {\n",
    "        \"type\": \"Feature\",\n",
    "        \"properties\": {\n",
    "            \"gym_location\": gym,\n",
    "            \"fighters\": f\"<strong>Fighters:</strong><br>{fighter_list}\",\n",
    "            \"number_of_fighters\": len(fighters)\n",
    "        },\n",
    "        \"geometry\": {\n",
    "            \"type\": \"Point\",\n",
    "            \"coordinates\": coordinates\n",
    "        }\n",
    "    }\n",
    "    features.append(feature)\n",
    "\n",
    "geojson = {\n",
    "    \"type\": \"FeatureCollection\",\n",
    "    \"features\": features\n",
    "}\n",
    "\n",
    "# Save GeoJSON to file\n",
    "with open('fighters_gyms.geojson', 'w') as f:\n",
    "    json.dump(geojson, f, indent=2)\n",
    "\n",
    "print(\"GeoJSON file created successfully.\")\n"
   ]
  }
 ],
 "metadata": {
  "kernelspec": {
   "display_name": "Python 3",
   "language": "python",
   "name": "python3"
  },
  "language_info": {
   "codemirror_mode": {
    "name": "ipython",
    "version": 3
   },
   "file_extension": ".py",
   "mimetype": "text/x-python",
   "name": "python",
   "nbconvert_exporter": "python",
   "pygments_lexer": "ipython3",
   "version": "3.8.8"
  }
 },
 "nbformat": 4,
 "nbformat_minor": 5
}
