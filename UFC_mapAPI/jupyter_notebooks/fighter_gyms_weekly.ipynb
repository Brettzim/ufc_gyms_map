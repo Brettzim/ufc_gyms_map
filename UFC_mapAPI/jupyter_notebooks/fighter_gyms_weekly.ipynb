{
 "cells": [
  {
   "cell_type": "code",
   "execution_count": 1,
   "id": "d098a33d",
   "metadata": {},
   "outputs": [],
   "source": [
    "import requests\n",
    "from bs4 import BeautifulSoup\n",
    "import json\n",
    "from datetime import datetime\n",
    "from collections import defaultdict\n",
    "import pandas as pd"
   ]
  },
  {
   "cell_type": "code",
   "execution_count": 2,
   "id": "55f22bb6",
   "metadata": {},
   "outputs": [],
   "source": [
    "URL = 'https://www.ufc.com/rankings'\n",
    "page = requests.get(URL)\n",
    "soup = BeautifulSoup(page.content, 'html.parser')\n",
    "weightclass = soup.findAll('div', attrs={'class':'view-grouping'})"
   ]
  },
  {
   "cell_type": "code",
   "execution_count": 3,
   "id": "88a087c7",
   "metadata": {},
   "outputs": [],
   "source": [
    "rankings = {}\n",
    "\n",
    "# Function to extract athlete data from a row\n",
    "def extract_athlete_data(row):\n",
    "    rank = row.select_one('.views-field-weight-class-rank').text.strip()\n",
    "    name = row.select_one('.views-field-title a').text.strip()\n",
    "    return rank, name\n",
    "\n",
    "# Iterate over all view groupings (weight classes)\n",
    "for grouping in soup.select('.view-grouping'):\n",
    "    weight_class = grouping.select_one('.view-grouping-header').text.strip()\n",
    "    rankings[weight_class] = {}\n",
    "    \n",
    "    # Extract champion if present\n",
    "    champion_section = grouping.select_one('.rankings--athlete--champion .info h5 a')\n",
    "    if champion_section:\n",
    "        champion_name = champion_section.text.strip()\n",
    "        rankings[weight_class]['Champion'] = champion_name\n",
    "    \n",
    "    # Extract other athletes\n",
    "    rows = grouping.select('tbody tr')\n",
    "    for row in rows:\n",
    "        rank, name = extract_athlete_data(row)\n",
    "        rankings[weight_class][rank] = name\n",
    "\n",
    "del rankings[\"Men's Pound-for-Pound Top Rank\"]\n",
    "del rankings[\"Women's Pound-for-Pound Top Rank\"]\n"
   ]
  },
  {
   "cell_type": "code",
   "execution_count": 4,
   "id": "927fe11e",
   "metadata": {},
   "outputs": [],
   "source": [
    "# Read the master table\n",
    "master_file_path = '../csvs/fighter_gyms_master.csv'\n",
    "master_df = pd.read_csv(master_file_path)\n",
    "\n",
    "# Create a dictionary from the DataFrame\n",
    "fighter_gym_dict = master_df.set_index('Name').to_dict(orient='index')"
   ]
  },
  {
   "cell_type": "code",
   "execution_count": 5,
   "id": "aba298df",
   "metadata": {},
   "outputs": [],
   "source": [
    "# Update rankings dictionary with gym information from master_df\n",
    "for weight_class, athletes in rankings.items():\n",
    "    for rank, fighter in athletes.items():\n",
    "        if fighter in fighter_gym_dict:\n",
    "            gym_info = fighter_gym_dict[fighter]\n",
    "            rankings[weight_class][rank] = {\n",
    "                'name': fighter,\n",
    "                'gym': gym_info['Gym'],\n",
    "                'latitude': gym_info['latitude'],\n",
    "                'longitude': gym_info['longitude']\n",
    "            }"
   ]
  },
  {
   "cell_type": "code",
   "execution_count": 7,
   "id": "0b14e7a8",
   "metadata": {},
   "outputs": [
    {
     "name": "stdout",
     "output_type": "stream",
     "text": [
      "GeoJSON file 'rankings_2024-08-02.geojson' created successfully.\n"
     ]
    }
   ],
   "source": [
    "import json\n",
    "from collections import defaultdict\n",
    "from datetime import datetime\n",
    "\n",
    "# Group fighters by gym\n",
    "gym_dict = defaultdict(lambda: {'latitude': None, 'longitude': None, 'fighters': []})\n",
    "\n",
    "for weight_class, fighters in rankings.items():\n",
    "    for rank, fighter_info in fighters.items():\n",
    "        gym = fighter_info['gym']\n",
    "        gym_dict[gym]['latitude'] = fighter_info['latitude']\n",
    "        gym_dict[gym]['longitude'] = fighter_info['longitude']\n",
    "        gym_dict[gym]['fighters'].append(f\"{fighter_info['name']} ({weight_class} - {rank})\")\n",
    "\n",
    "# Generate GeoJSON features\n",
    "features = []\n",
    "for gym, info in gym_dict.items():\n",
    "    features.append({\n",
    "        \"type\": \"Feature\",\n",
    "        \"properties\": {\n",
    "            \"gym_location\": gym,\n",
    "            \"fighters\": \"<br>\".join(info['fighters']),\n",
    "            \"fighter_count\": len(info['fighters'])\n",
    "        },\n",
    "        \"geometry\": {\n",
    "            \"type\": \"Point\",\n",
    "            \"coordinates\": [\n",
    "                info['longitude'],\n",
    "                info['latitude']\n",
    "            ]\n",
    "        }\n",
    "    })\n",
    "\n",
    "# Create GeoJSON structure\n",
    "geojson = {\n",
    "    \"type\": \"FeatureCollection\",\n",
    "    \"features\": features\n",
    "}\n",
    "\n",
    "# Define the GeoJSON filename with today's date\n",
    "geojson_filename = f\"../geojsons/rankings_{datetime.today().strftime('%Y-%m-%d')}.geojson\"\n",
    "\n",
    "# Write to the GeoJSON file\n",
    "with open(geojson_filename, 'w') as file:\n",
    "    json.dump(geojson, file, indent=2)\n",
    "\n",
    "print(f\"GeoJSON file '{geojson_filename}' created successfully.\")\n"
   ]
  }
 ],
 "metadata": {
  "kernelspec": {
   "display_name": "Python 3",
   "language": "python",
   "name": "python3"
  },
  "language_info": {
   "codemirror_mode": {
    "name": "ipython",
    "version": 3
   },
   "file_extension": ".py",
   "mimetype": "text/x-python",
   "name": "python",
   "nbconvert_exporter": "python",
   "pygments_lexer": "ipython3",
   "version": "3.8.8"
  }
 },
 "nbformat": 4,
 "nbformat_minor": 5
}
