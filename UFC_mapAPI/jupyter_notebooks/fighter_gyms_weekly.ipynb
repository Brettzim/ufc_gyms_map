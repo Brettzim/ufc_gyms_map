{
 "cells": [
  {
   "cell_type": "code",
   "execution_count": 1,
   "id": "d098a33d",
   "metadata": {},
   "outputs": [],
   "source": [
    "import requests\n",
    "from bs4 import BeautifulSoup\n",
    "import json\n",
    "from datetime import datetime\n",
    "from collections import defaultdict\n",
    "import pandas as pd"
   ]
  },
  {
   "cell_type": "code",
   "execution_count": 2,
   "id": "55f22bb6",
   "metadata": {},
   "outputs": [],
   "source": [
    "URL = 'https://www.ufc.com/rankings'\n",
    "page = requests.get(URL)\n",
    "soup = BeautifulSoup(page.content, 'html.parser')\n",
    "weightclass = soup.findAll('div', attrs={'class':'view-grouping'})"
   ]
  },
  {
   "cell_type": "code",
   "execution_count": 3,
   "id": "88a087c7",
   "metadata": {},
   "outputs": [],
   "source": [
    "rankings = {}\n",
    "\n",
    "# Function to extract athlete data from a row\n",
    "def extract_athlete_data(row):\n",
    "    rank = row.select_one('.views-field-weight-class-rank').text.strip()\n",
    "    name = row.select_one('.views-field-title a').text.strip()\n",
    "    return rank, name\n",
    "\n",
    "# Iterate over all view groupings (weight classes)\n",
    "for grouping in soup.select('.view-grouping'):\n",
    "    weight_class = grouping.select_one('.view-grouping-header').text.strip()\n",
    "    rankings[weight_class] = {}\n",
    "    \n",
    "    # Extract champion if present\n",
    "    champion_section = grouping.select_one('.rankings--athlete--champion .info h5 a')\n",
    "    if champion_section:\n",
    "        champion_name = champion_section.text.strip()\n",
    "        rankings[weight_class]['Champion'] = champion_name\n",
    "    \n",
    "    # Extract other athletes\n",
    "    rows = grouping.select('tbody tr')\n",
    "    for row in rows:\n",
    "        rank, name = extract_athlete_data(row)\n",
    "        rankings[weight_class][rank] = name\n",
    "\n",
    "del rankings[\"Men's Pound-for-Pound Top Rank\"]"
   ]
  },
  {
   "cell_type": "code",
   "execution_count": 6,
   "id": "9eea94e8",
   "metadata": {},
   "outputs": [],
   "source": [
    "# Read the master table\n",
    "master_file_path = '../fighter_gyms_master.csv'\n",
    "master_df = pd.read_csv(master_file_path)\n",
    "\n",
    "# Create a dictionary from the DataFrame\n",
    "fighter_gym_dict = master_df.set_index('Name').to_dict(orient='index')"
   ]
  },
  {
   "cell_type": "code",
   "execution_count": 7,
   "id": "c62cc0cb",
   "metadata": {},
   "outputs": [],
   "source": [
    "# Update rankings dictionary with gym information from master_df\n",
    "for weight_class, athletes in rankings.items():\n",
    "    for rank, fighter in athletes.items():\n",
    "        if fighter in fighter_gym_dict:\n",
    "            gym_info = fighter_gym_dict[fighter]\n",
    "            rankings[weight_class][rank] = {\n",
    "                'name': fighter,\n",
    "                'gym': gym_info['Gym'],\n",
    "                'latitude': gym_info['latitude'],\n",
    "                'longitude': gym_info['longitude']\n",
    "            }"
   ]
  },
  {
   "cell_type": "code",
   "execution_count": 12,
   "id": "23e7bd80",
   "metadata": {},
   "outputs": [
    {
     "name": "stdout",
     "output_type": "stream",
     "text": [
      "GeoJSON data has been written to rankings_by_gym.geojson\n"
     ]
    }
   ],
   "source": [
    "# Aggregate fighters by gym\n",
    "gyms = defaultdict(lambda: {'fighters': [], 'latitude': None, 'longitude': None})\n",
    "\n",
    "for weight_class, athletes in rankings.items():\n",
    "    for rank, details in athletes.items():\n",
    "        if isinstance(details, dict):  # Ensure details is a dictionary\n",
    "            gym = details.get('gym', None)\n",
    "            if gym:\n",
    "                gyms[gym]['fighters'].append({\n",
    "                    'Name': details.get('name', 'Unknown'),\n",
    "                    'Rank': rank,\n",
    "                    'Weight Class': weight_class\n",
    "                })\n",
    "                gyms[gym]['latitude'] = details.get('latitude', None)\n",
    "                gyms[gym]['longitude'] = details.get('longitude', None)\n",
    "\n",
    "# Convert aggregated gym data to GeoJSON\n",
    "def gyms_to_geojson(gyms):\n",
    "    geojson = {'type': 'FeatureCollection', 'features': []}\n",
    "    \n",
    "    for gym, data in gyms.items():\n",
    "        if data['latitude'] is not None and data['longitude'] is not None:  # Ensure we have valid coordinates\n",
    "            feature = {\n",
    "                'type': 'Feature',\n",
    "                'geometry': {\n",
    "                    'type': 'Point',\n",
    "                    'coordinates': [data['longitude'], data['latitude']]\n",
    "                },\n",
    "                'properties': {\n",
    "                    'Gym': gym,\n",
    "                    'Fighters': data['fighters']\n",
    "                }\n",
    "            }\n",
    "            geojson['features'].append(feature)\n",
    "    \n",
    "    return geojson\n",
    "\n",
    "# Convert gyms to GeoJSON\n",
    "geojson_data = gyms_to_geojson(gyms)\n",
    "\n",
    "# Save the GeoJSON to a file\n",
    "geojson_file_path = 'rankings_by_gym.geojson'\n",
    "with open(geojson_file_path, 'w') as f:\n",
    "    json.dump(geojson_data, f)\n",
    "\n",
    "print(f\"GeoJSON data has been written to {geojson_file_path}\")"
   ]
  }
 ],
 "metadata": {
  "kernelspec": {
   "display_name": "Python 3",
   "language": "python",
   "name": "python3"
  },
  "language_info": {
   "codemirror_mode": {
    "name": "ipython",
    "version": 3
   },
   "file_extension": ".py",
   "mimetype": "text/x-python",
   "name": "python",
   "nbconvert_exporter": "python",
   "pygments_lexer": "ipython3",
   "version": "3.8.8"
  }
 },
 "nbformat": 4,
 "nbformat_minor": 5
}
